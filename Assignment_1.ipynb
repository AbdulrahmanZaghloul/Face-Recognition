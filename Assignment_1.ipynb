{
  "nbformat": 4,
  "nbformat_minor": 0,
  "metadata": {
    "colab": {
      "name": "Assignment 1.ipynb",
      "provenance": [],
      "collapsed_sections": []
    },
    "kernelspec": {
      "display_name": "Python 3",
      "name": "python3"
    },
    "language_info": {
      "name": "python"
    }
  },
  "cells": [
    {
      "cell_type": "markdown",
      "metadata": {
        "id": "5viyE-clfOCK"
      },
      "source": [
        "PCA Implementation\n"
      ]
    },
    {
      "cell_type": "code",
      "metadata": {
        "id": "MD10gB67hnhs",
        "colab": {
          "base_uri": "https://localhost:8080/"
        },
        "outputId": "9d5d949b-181a-4709-8710-43f9f9a23842"
      },
      "source": [
        "from PIL import Image\n",
        "import numpy as np\n",
        "import os\n",
        "from sklearn.neighbors import KNeighborsClassifier\n",
        "\n",
        "\n",
        "x = []\n",
        "y = []\n",
        "count = 1\n",
        "\n",
        "for i in range(1,41):\n",
        "  images = os.listdir('./drive/MyDrive/ORL dataset2/s'+str(i))\n",
        "  count = 1\n",
        "  for image in images:\n",
        "    image_temp = np.array(Image.open('./drive/MyDrive/ORL dataset2/s'+str(i) +'/'+str(count)+'.pgm')).flatten()\n",
        "    x.append(image_temp)\n",
        "    y.append(str(i))\n",
        "    count += 1\n",
        "\n",
        "data = np.array(x)\n",
        "data_ids = np.array(y)\n",
        "\n",
        "\n",
        "training = np.empty((0,10304), int)\n",
        "training_ids = np.array([])\n",
        "\n",
        "testing = np.empty((0,10304), int)\n",
        "testing_ids = np.array([])\n",
        "\n",
        "for i in range(400):\n",
        "  if i%2 != 0:\n",
        "    training = np.vstack([training, data[i]])\n",
        "    training_ids = np.append(training_ids, data_ids[i])\n",
        "  else:\n",
        "    testing = np.vstack([testing, data[i]])\n",
        "    testing_ids = np.append(testing_ids, data_ids[i])\n",
        "\n",
        "\n",
        "\n",
        "data_mean =  np.mean(data, axis=0)\n",
        "data_z = data - data_mean\n",
        "\n",
        "data_cov = np.dot(data_z.T, data_z) / len(data)\n",
        "eigen_values, eigen_vectors = np.linalg.eigh(data_cov)\n",
        "\n",
        "eigen_vectors = eigen_vectors.T\n",
        "\n",
        "i = eigen_values.argsort()[::-1]\n",
        "eigen_values = eigen_values[i]\n",
        "eigen_vectors = eigen_vectors[:, i]\n",
        "\n",
        "sum = np.sum(eigen_values)\n",
        "\n",
        "alpha = np.array([0.8, 0.85, 0.9, 0.95])\n",
        "fr = 0\n",
        "r = [0, 0, 0, 0]\n",
        "\n",
        "for i in range(4):\n",
        "    temp_sum = 0\n",
        "    while fr < alpha[i]:\n",
        "        temp_sum += eigen_values[r[i]]\n",
        "        fr = temp_sum / sum\n",
        "        r[i] += 1\n",
        "\n",
        "for i in range(4):\n",
        "\n",
        "  projection_matrix = eigen_vectors[:, 0:r[i]]\n",
        "\n",
        "  training_mean = np.mean(training)\n",
        "  centered_training = training -  training_mean\n",
        "  projected_training = np.dot(centered_training, projection_matrix)\n",
        "\n",
        "  testing_mean = np.mean(testing)\n",
        "  centered_testing = testing - testing_mean\n",
        "  projected_testing = np.dot(centered_testing, projection_matrix)\n",
        "\n",
        "  model = KNeighborsClassifier(n_neighbors=1)\n",
        "  model.fit(projected_training,training_ids)\n",
        "  predicted= model.predict(projected_testing)\n",
        "  \n",
        "  accuracy = (np.sum(testing_ids == predicted) / len(testing_ids)) * 100\n",
        "  print(\"Accuracy for alpha = \", alpha[i], \"is \", str(accuracy), \"%\")\n",
        "\n"
      ],
      "execution_count": null,
      "outputs": [
        {
          "output_type": "stream",
          "text": [
            "Accuracy for alpha =  0.8 is  88.0 %\n",
            "Accuracy for alpha =  0.85 is  92.0 %\n",
            "Accuracy for alpha =  0.9 is  93.0 %\n",
            "Accuracy for alpha =  0.95 is  93.0 %\n"
          ],
          "name": "stdout"
        }
      ]
    },
    {
      "cell_type": "markdown",
      "metadata": {
        "id": "IhwLqb-NfSul"
      },
      "source": [
        "LDA Implementation\n"
      ]
    },
    {
      "cell_type": "code",
      "metadata": {
        "colab": {
          "base_uri": "https://localhost:8080/"
        },
        "id": "H28pCAhxRuBf",
        "outputId": "88b41abf-d97a-4bb8-9c95-b7f24bf5cdc0"
      },
      "source": [
        "# This is a sample Python script.\n",
        "import os\n",
        "\n",
        "from PIL import Image\n",
        "import numpy as np\n",
        "from numpy import linalg as la\n",
        "from sklearn.neighbors import KNeighborsClassifier\n",
        "\n",
        "Sb = 0\n",
        "S = 0\n",
        "\n",
        "mean_vector = np.mean(training, axis=0)\n",
        "for i in range(len(np.unique(training_ids))):\n",
        "    class_mean = np.mean(training[training == i + 1], axis=0)\n",
        "    Sb += len(training[training == i + 1]) * np.outer((class_mean - mean_vector), (class_mean - mean_vector))\n",
        "    Z = training[i:i + 10, :] - class_mean\n",
        "    S += np.dot(Z.T, Z)\n",
        "\n",
        "\n",
        "S_inv = la.inv(S)\n",
        "evals, evecs = np.linalg.eigh(np.matmul(S_inv, Sb))\n",
        "\n",
        "evecs = evecs.T\n",
        "\n",
        "i = evals.argsort()[::-1]\n",
        "evals = evals[i]\n",
        "evecs = evecs[:, i]\n",
        "\n",
        "\n",
        "projection_matrix_lda = evecs[:, 0:39]\n",
        "\n",
        "\n",
        "training_mean = np.mean(training)\n",
        "centered_training = training - training_mean\n",
        "projected_training_lda = np.dot(centered_training, projection_matrix_lda)\n",
        "\n",
        "testing_mean = np.mean(testing)\n",
        "centered_testing = testing - testing_mean\n",
        "projected_testing_lda = np.dot(centered_testing, projection_matrix_lda)\n",
        "\n",
        "model = KNeighborsClassifier(n_neighbors=1)\n",
        "model.fit(projected_training_lda, training_ids)\n",
        "predicted = model.predict(projected_testing_lda)\n",
        "\n",
        "accuracy = (np.sum(testing_ids == predicted) / len(testing_ids)) * 100\n",
        "print(\"LDA Accuracy =\", str(accuracy), \"%\")"
      ],
      "execution_count": null,
      "outputs": [
        {
          "output_type": "stream",
          "text": [
            "LDA Accuracy = 88.5 %\n"
          ],
          "name": "stdout"
        }
      ]
    },
    {
      "cell_type": "code",
      "metadata": {
        "colab": {
          "base_uri": "https://localhost:8080/",
          "height": 332
        },
        "id": "M9aJigg0PoO-",
        "outputId": "27df08a1-cd15-4a21-886f-e7fbe0958ebd"
      },
      "source": [
        "import seaborn as sns\n",
        "import matplotlib.pyplot as plt\n",
        "fig = plt.figure()\n",
        "ax = plt.axes()\n",
        "alpha = [0.8, 0.85, 0.9, 0.95]\n",
        "k=[1,3,5,7]\n",
        "for i in range(4) :\n",
        "  accuracy1=[]\n",
        "  for n in k :\n",
        "\n",
        "    projection_matrix = eigen_vectors[:, 0:r[i]]\n",
        "\n",
        "    training_mean = np.mean(training)\n",
        "    centered_training = training -  training_mean\n",
        "    projected_training = np.dot(centered_training, projection_matrix)\n",
        "\n",
        "    testing_mean = np.mean(testing)\n",
        "    centered_testing = testing - testing_mean\n",
        "    projected_testing = np.dot(centered_testing, projection_matrix)\n",
        "  \n",
        "    model = KNeighborsClassifier(n_neighbors=n)\n",
        "    model.fit(projected_training,training_ids)\n",
        "    predicted= model.predict(projected_testing)\n",
        "  \n",
        "    accuracy = (np.sum(testing_ids == predicted) / len(testing_ids)) * 100\n",
        "    accuracy1.append(accuracy)\n",
        "\n",
        "\n",
        "\n",
        "  plt.plot(k,accuracy1, label = 'PCA, k = {}'.format(k))\n",
        "  print(accuracy1)"
      ],
      "execution_count": null,
      "outputs": [
        {
          "output_type": "stream",
          "text": [
            "[88.0, 79.0, 78.0, 76.0]\n",
            "[92.0, 82.0, 81.0, 76.5]\n",
            "[93.0, 87.0, 81.0, 78.0]\n",
            "[93.0, 86.0, 82.0, 79.5]\n"
          ],
          "name": "stdout"
        },
        {
          "output_type": "display_data",
          "data": {
            "image/png": "[encoded data removed]",
            "text/plain": [
              "<Figure size 432x288 with 1 Axes>"
            ]
          },
          "metadata": {
            "tags": [],
            "needs_background": "light"
          }
        }
      ]
    },
    {
      "cell_type": "code",
      "metadata": {
        "colab": {
          "base_uri": "https://localhost:8080/",
          "height": 419
        },
        "id": "UKBaaiCSW3L8",
        "outputId": "09141a7b-6f86-4858-ea62-05ec2bc50e16"
      },
      "source": [
        "import seaborn as sns\n",
        "fig = plt.figure()\n",
        "ax = plt.axes()\n",
        "accuracy1=[]\n",
        "k=[1,3,5,7]\n",
        "for i in k :\n",
        "  \n",
        " model = KNeighborsClassifier(n_neighbors=i)\n",
        " model.fit(projected_training_lda,training_ids)\n",
        " predicted= model.predict(projected_testing_lda)\n",
        "  \n",
        " accuracy = (np.sum(testing_ids == predicted) / len(testing_ids)) * 100\n",
        " print(\"Accuracy =\" , str(accuracy), \"%\")\n",
        " \n",
        " accuracy1.append(accuracy)\n",
        " \n",
        "\n",
        "print(accuracy1) \n",
        "sns.lineplot(k,accuracy1)"
      ],
      "execution_count": null,
      "outputs": [
        {
          "output_type": "stream",
          "text": [
            "Accuracy = 88.5 %\n",
            "Accuracy = 75.5 %\n",
            "Accuracy = 77.0 %\n",
            "Accuracy = 72.0 %\n",
            "[88.5, 75.5, 77.0, 72.0]\n"
          ],
          "name": "stdout"
        },
        {
          "output_type": "stream",
          "text": [
            "/usr/local/lib/python3.7/dist-packages/seaborn/_decorators.py:43: FutureWarning: Pass the following variables as keyword args: x, y. From version 0.12, the only valid positional argument will be `data`, and passing other arguments without an explicit keyword will result in an error or misinterpretation.\n",
            "  FutureWarning\n"
          ],
          "name": "stderr"
        },
        {
          "output_type": "execute_result",
          "data": {
            "text/plain": [
              "<matplotlib.axes._subplots.AxesSubplot at 0x7f663dd83210>"
            ]
          },
          "metadata": {
            "tags": []
          },
          "execution_count": 108
        },
        {
          "output_type": "display_data",
          "data": {
            "image/png": "[encoded data removed]",
            "text/plain": [
              "<Figure size 432x288 with 1 Axes>"
            ]
          },
          "metadata": {
            "tags": [],
            "needs_background": "light"
          }
        }
      ]
    },
    {
      "cell_type": "code",
      "metadata": {
        "colab": {
          "base_uri": "https://localhost:8080/"
        },
        "id": "-ggZcqtQgBVZ",
        "outputId": "8c0336d9-6cc0-4469-f0ae-e3525289b551"
      },
      "source": [
        "from cv2 import *\n",
        "\n",
        "path = './drive/MyDrive/faces'\n",
        "images = os.listdir(path)\n",
        "data = []\n",
        "labels = []\n",
        "faces = []\n",
        "nonfaces = []\n",
        "Sb = 0\n",
        "S = 0\n",
        "\n",
        "for i in range(1, 41):\n",
        "  my_path = path + '/' + str(i) + '.jpg'\n",
        "  img = cv2.imread(my_path)\n",
        "  img = cv2.cvtColor(img, cv2.COLOR_BGR2GRAY)\n",
        "  img = cv2.resize(img, (92, 112), interpolation = cv2.INTER_LINEAR)\n",
        "  img = img.flatten()\n",
        "  data.append(img)\n",
        "  labels.append('1')\n",
        "\n",
        "\n",
        "path = './drive/MyDrive/nonfaces'\n",
        "images = os.listdir(path)\n",
        "for i in range(1, 41):\n",
        "  my_path = path + '/' + str(i) + '.jpg'\n",
        "  img = cv2.imread(my_path)\n",
        "  img = cv2.cvtColor(img, cv2.COLOR_BGR2GRAY)\n",
        "  img = cv2.resize(img, (92, 112), interpolation = cv2.INTER_LINEAR)\n",
        "  img = img.flatten()\n",
        "  data.append(img)\n",
        "  labels.append('2')\n",
        "\n",
        "data = np.array(data)\n",
        "labels = np.array(labels)\n",
        "\n",
        "\n",
        "training = np.empty((0,10304), int)\n",
        "training_labels = []\n",
        "\n",
        "testing = np.empty((0,10304), int)\n",
        "testing_labels = []\n",
        "\n",
        "for i in range(80):\n",
        "  if i%2 != 0:\n",
        "    training = np.vstack([training, data[i]])\n",
        "    training_labels.append(labels[i])\n",
        "  else:\n",
        "    testing = np.vstack([testing, data[i]])\n",
        "    testing_labels.append(labels[i])\n",
        "\n",
        "training_labels = np.array(training_labels)\n",
        "testing_labels = np.array(testing_labels)\n",
        "\n",
        "\n",
        "mean_vector = np.mean(training, axis=0)\n",
        "for i in range(len(np.unique(training_labels))):\n",
        "    class_mean = np.mean(training[training == i + 1], axis=0)\n",
        "    Sb += len(training[training == i + 1]) * np.outer((class_mean - mean_vector), (class_mean - mean_vector))\n",
        "    Z = training[i:i + 20, :] - class_mean\n",
        "    S += np.dot(Z.T, Z)\n",
        "\n",
        "S_inv = la.inv(S)\n",
        "evals, evecs = np.linalg.eigh(np.matmul(S_inv, Sb))\n",
        "\n",
        "evecs = evecs.T\n",
        "\n",
        "i = evals.argsort()[::-1]\n",
        "evals = evals[i]\n",
        "evecs = evecs[:, i]\n",
        "\n",
        "\n",
        "testing_faces = testing[0:20]\n",
        "testing_nonfaces = testing[20:40] \n",
        "\n",
        "projection_matrix_lda = evecs[:, 0:1]\n",
        "\n",
        "training_mean = np.mean(training)\n",
        "centered_training = training - training_mean\n",
        "projected_training_lda = np.dot(centered_training, projection_matrix_lda)\n",
        "\n",
        "testing_mean = np.mean(testing)\n",
        "\n",
        "centered_testing = testing - testing_mean\n",
        "projected_testing_lda = np.dot(centered_testing, projection_matrix_lda)\n",
        "\n",
        "centered_faces = testing_faces - testing_mean\n",
        "projected_testing_faces_lda = np.dot(centered_faces, projection_matrix_lda)\n",
        "\n",
        "centered_nonfaces = testing_nonfaces - testing_mean\n",
        "projected_testing_nonfaces_lda = np.dot(centered_nonfaces, projection_matrix_lda)\n",
        "\n",
        "\n",
        "model = KNeighborsClassifier(n_neighbors=1)\n",
        "model.fit(projected_training_lda, training_labels)\n",
        "\n",
        "predicted_overall = model.predict(projected_testing_lda)\n",
        "predicted_faces = model.predict(projected_testing_faces_lda)\n",
        "predicted_nonfaces = model.predict(projected_testing_nonfaces_lda)\n",
        "\n",
        "\n",
        "accuracy_overall = (np.sum(testing_labels == predicted_overall) / len(testing_labels)) * 100\n",
        "accuracy_faces = (np.sum(testing_labels[0:20] == predicted_faces) / (len(testing_labels)/2)) * 100\n",
        "accuracy_nonfaces = (np.sum(testing_labels[20:40] == predicted_nonfaces) / (len(testing_labels)/2)) * 100\n",
        "\n",
        "print(\"Overall LDA Accuracy =\", str(accuracy_overall), \"%\")\n",
        "print(\"LDA faces Accuracy =\", str(accuracy_faces), \"%\")\n",
        "print(\"LDA non-faces Accuracy =\", str(accuracy_nonfaces), \"%\")\n",
        "\n",
        "print(\"Number of success cases: \",(accuracy_overall/100)*len(data))\n",
        "print(\"Number of failure cases: \",len(data) - (accuracy_overall/100)*len(data))"
      ],
      "execution_count": null,
      "outputs": [
        {
          "output_type": "stream",
          "text": [
            "Overall LDA Accuracy = 67.5 %\n",
            "LDA faces Accuracy = 70.0 %\n",
            "LDA non-faces Accuracy = 65.0 %\n",
            "Number of success cases:  54.0\n",
            "Number of failure cases:  26.0\n"
          ],
          "name": "stdout"
        }
      ]
    },
    {
      "cell_type": "code",
      "metadata": {
        "colab": {
          "base_uri": "https://localhost:8080/",
          "height": 335
        },
        "id": "7QpYHRLgiAS1",
        "outputId": "e6ebcdc8-3544-4e34-c82c-694b5019c1de"
      },
      "source": [
        "\n",
        "nonfaces = []\n",
        "accuracy_nonfaces= []\n",
        "\n",
        "for i in range (5, 21, 5):\n",
        "  testing_nonfaces = testing[0:(20 + i)]\n",
        "  testing_labels_nonfaces= testing_labels[0:(20 + i)]\n",
        "\n",
        "  nonfaces.append(i)\n",
        "\n",
        "  centered_nonfaces = testing_nonfaces - testing_mean\n",
        "  projected_testing_nonfaces_lda = np.dot(centered_nonfaces, projection_matrix_lda)\n",
        "\n",
        "\n",
        "  model = KNeighborsClassifier(n_neighbors=1)\n",
        "  model.fit(projected_training_lda, training_labels)\n",
        "\n",
        "  predicted_nonfaces = model.predict(projected_testing_nonfaces_lda)\n",
        "\n",
        "  accuracy = (np.sum(testing_labels_nonfaces == predicted_nonfaces) / (len(testing_labels_nonfaces))) * 100\n",
        "\n",
        "  accuracy_nonfaces.append(accuracy)\n",
        "\n",
        "\n",
        "sns.lineplot(nonfaces, accuracy_nonfaces)\n",
        "print(accuracy_nonfaces)"
      ],
      "execution_count": null,
      "outputs": [
        {
          "output_type": "stream",
          "text": [
            "/usr/local/lib/python3.7/dist-packages/seaborn/_decorators.py:43: FutureWarning: Pass the following variables as keyword args: x, y. From version 0.12, the only valid positional argument will be `data`, and passing other arguments without an explicit keyword will result in an error or misinterpretation.\n",
            "  FutureWarning\n"
          ],
          "name": "stderr"
        },
        {
          "output_type": "stream",
          "text": [
            "[72.0, 70.0, 68.57142857142857, 67.5]\n"
          ],
          "name": "stdout"
        },
        {
          "output_type": "display_data",
          "data": {
            "image/png": "[encoded data removed]",
            "text/plain": [
              "<Figure size 432x288 with 1 Axes>"
            ]
          },
          "metadata": {
            "tags": [],
            "needs_background": "light"
          }
        }
      ]
    },
    {
      "cell_type": "code",
      "metadata": {
        "colab": {
          "base_uri": "https://localhost:8080/"
        },
        "id": "ZhwZuYszLQUr",
        "outputId": "b6e1b6ca-1f7a-47ab-eb4d-8cfc025bdea1"
      },
      "source": [
        "from PIL import Image\n",
        "import numpy as np\n",
        "import os\n",
        "from sklearn.neighbors import KNeighborsClassifier\n",
        "import matplotlib.pyplot as plt\n",
        "\n",
        "\n",
        "x = []\n",
        "y = []\n",
        "count = 1\n",
        "\n",
        "for i in range(1,41):\n",
        "  images = os.listdir('./drive/MyDrive/ORL dataset2/s'+str(i))\n",
        "  count = 1\n",
        "  for image in images:\n",
        "    image_temp = np.array(Image.open('./drive/MyDrive/ORL dataset2/s'+str(i) +'/'+str(count)+'.pgm')).flatten()\n",
        "    x.append(image_temp)\n",
        "    y.append(str(i))\n",
        "    count += 1\n",
        "\n",
        "\n",
        "data = np.array(x)\n",
        "data_ids = np.array(y)\n",
        "\n",
        "\n",
        "training_1 = np.empty((0,10304), int)\n",
        "training_ids_1 = np.array([])\n",
        "\n",
        "testing_1 = np.empty((0,10304), int)\n",
        "testing_ids_1 = np.array([])\n",
        "\n",
        "for i in range(400):\n",
        "  if i%10 < 7:\n",
        "    training_1 = np.vstack([training_1, data[i]])\n",
        "    training_ids_1 = np.append(training_ids_1, data_ids[i])\n",
        "  else:\n",
        "    testing_1 = np.vstack([testing_1, data[i]])\n",
        "    testing_ids_1 = np.append(testing_ids_1, data_ids[i])\n",
        "\n",
        "\n",
        "data_mean =  np.mean(data, axis=0)\n",
        "data_z = data - data_mean\n",
        "\n",
        "data_cov = np.dot(data_z.T, data_z) / len(data)\n",
        "eigen_values, eigen_vectors = np.linalg.eigh(data_cov)\n",
        "\n",
        "eigen_vectors = eigen_vectors.T\n",
        "\n",
        "i = eigen_values.argsort()[::-1]\n",
        "eigen_values = eigen_values[i]\n",
        "eigen_vectors = eigen_vectors[:, i]\n",
        "\n",
        "sum = np.sum(eigen_values)\n",
        "\n",
        "alpha = np.array([0.8, 0.85, 0.9, 0.95])\n",
        "fr = 0\n",
        "r = [0, 0, 0, 0]\n",
        "\n",
        "for i in range(4):\n",
        "  temp_sum = 0\n",
        "  while fr < alpha[i]:\n",
        "    temp_sum += eigen_values[r[i]]\n",
        "    fr = temp_sum / sum\n",
        "    r[i] += 1\n",
        "\n",
        "\n",
        "\n",
        "  projection_matrix = eigen_vectors[:, 0:r[i]]\n",
        "\n",
        "  training_mean_1 = np.mean(training_1)\n",
        "  centered_training_1 = training_1 -  training_mean_1\n",
        "  projected_training_1 = np.dot(centered_training_1, projection_matrix)\n",
        "\n",
        "  testing_mean_1 = np.mean(testing_1)\n",
        "  centered_testing_1 = testing_1 - testing_mean_1\n",
        "  projected_testing_1 = np.dot(centered_testing_1, projection_matrix)\n",
        "\n",
        "  model = KNeighborsClassifier(n_neighbors=1)\n",
        "  model.fit(projected_training_1,training_ids_1)\n",
        "  predicted_1= model.predict(projected_testing_1)\n",
        "\n",
        "  accuracy_1 = (np.sum(testing_ids_1 == predicted_1) / len(testing_ids_1)) * 100\n",
        "  print(\"Accuracy for alpha = \", alpha[i], \"is \", str(accuracy_1), \"%\")"
      ],
      "execution_count": null,
      "outputs": [
        {
          "output_type": "stream",
          "text": [
            "Accuracy for alpha =  0.8 is  85.0 %\n",
            "Accuracy for alpha =  0.85 is  89.16666666666667 %\n",
            "Accuracy for alpha =  0.9 is  91.66666666666666 %\n",
            "Accuracy for alpha =  0.95 is  92.5 %\n"
          ],
          "name": "stdout"
        }
      ]
    },
    {
      "cell_type": "code",
      "metadata": {
        "colab": {
          "base_uri": "https://localhost:8080/",
          "height": 332
        },
        "id": "uqJA2SbueOkL",
        "outputId": "b5a57aa4-8129-4425-e457-2e2417260400"
      },
      "source": [
        "import seaborn as sns\n",
        "import matplotlib.pyplot as plt\n",
        "fig = plt.figure()\n",
        "ax = plt.axes()\n",
        "alpha = [0.8, 0.85, 0.9, 0.95]\n",
        "k=[1,3,5,7]\n",
        "for i in range(4) :\n",
        "  accuracy1=[]\n",
        "  for n in k :\n",
        "\n",
        "    projection_matrix = eigen_vectors[:, 0:r[i]]\n",
        "\n",
        "    training_mean = np.mean(training_1)\n",
        "    centered_training = training_1 -  training_mean\n",
        "    projected_training = np.dot(centered_training, projection_matrix)\n",
        "\n",
        "    testing_mean = np.mean(testing_1)\n",
        "    centered_testing = testing_1 - testing_mean\n",
        "    projected_testing = np.dot(centered_testing, projection_matrix)\n",
        "  \n",
        "    model = KNeighborsClassifier(n_neighbors=n)\n",
        "    model.fit(projected_training,training_ids_1)\n",
        "    predicted= model.predict(projected_testing)\n",
        "  \n",
        "    accuracy = (np.sum(testing_ids_1 == predicted) / len(testing_ids_1)) * 100\n",
        "    accuracy1.append(accuracy)\n",
        "\n",
        "\n",
        "\n",
        "  plt.plot(k,accuracy1, label = 'PCA, k = {}'.format(k))\n",
        "  print(accuracy1)"
      ],
      "execution_count": null,
      "outputs": [
        {
          "output_type": "stream",
          "text": [
            "[85.0, 82.5, 85.0, 80.83333333333333]\n",
            "[89.16666666666667, 86.66666666666667, 84.16666666666667, 80.0]\n",
            "[91.66666666666666, 90.0, 85.83333333333333, 84.16666666666667]\n",
            "[92.5, 91.66666666666666, 88.33333333333333, 80.0]\n"
          ],
          "name": "stdout"
        },
        {
          "output_type": "display_data",
          "data": {
            "image/png": "[encoded data removed]",
            "text/plain": [
              "<Figure size 432x288 with 1 Axes>"
            ]
          },
          "metadata": {
            "tags": [],
            "needs_background": "light"
          }
        }
      ]
    },
    {
      "cell_type": "code",
      "metadata": {
        "colab": {
          "base_uri": "https://localhost:8080/"
        },
        "id": "5XBexFYDLcxK",
        "outputId": "83d52409-8b34-4cfe-886e-abeb2ba6458e"
      },
      "source": [
        "from PIL import Image\n",
        "import numpy as np\n",
        "from numpy import linalg as la\n",
        "\n",
        "import os\n",
        "from sklearn.neighbors import KNeighborsClassifier\n",
        "import matplotlib.pyplot as plt\n",
        "\n",
        "x = []\n",
        "y = []\n",
        "count = 1\n",
        "for i in range(1,41):\n",
        "  images = os.listdir('./drive/MyDrive/ORL dataset2/s'+str(i))\n",
        "  count = 1\n",
        "  for image in images:\n",
        "    image_temp = np.array(Image.open('./drive/MyDrive/ORL dataset2/s'+str(i) +'/'+str(count)+'.pgm')).flatten()\n",
        "    x.append(image_temp)\n",
        "    y.append(str(i))\n",
        "    count += 1\n",
        "\n",
        "\n",
        "data = np.array(x)\n",
        "data_ids = np.array(y)\n",
        "\n",
        "\n",
        "\n",
        "training = np.empty((0,10304), int)\n",
        "training_ids = np.array([])\n",
        "\n",
        "testing = np.empty((0,10304), int)\n",
        "testing_ids = np.array([])\n",
        "\n",
        "\n",
        "for i in range(400):\n",
        "  if i%10 < 7:\n",
        "    training = np.vstack([training, data[i]])\n",
        "    training_ids = np.append(training_ids, data_ids[i])\n",
        "  else:\n",
        "    testing = np.vstack([testing, data[i]])\n",
        "    testing_ids = np.append(testing_ids, data_ids[i])\n",
        "\n",
        "\n",
        "\n",
        "Sb = 0\n",
        "S = 0\n",
        "\n",
        "mean_vector = np.mean(training, axis=0)\n",
        "for i in range(len(np.unique(training_ids))):\n",
        "    class_mean = np.mean(training[training == i + 1], axis=0)\n",
        "    Sb += len(training[training == i + 1]) * np.outer((class_mean - mean_vector), (class_mean - mean_vector))\n",
        "    Z = training[i:i + 7, :] - class_mean\n",
        "    S += np.dot(Z.T, Z)\n",
        "\n",
        "\n",
        "S_inv = la.inv(S)\n",
        "evals, evecs = np.linalg.eigh(np.matmul(S_inv, Sb))\n",
        "\n",
        "evecs = evecs.T\n",
        "\n",
        "i = evals.argsort()[::-1]\n",
        "evals = evals[i]\n",
        "evecs = evecs[:, i]\n",
        "\n",
        "projection_matrix = evecs[:, 0:39]\n",
        "\n",
        "\n",
        "training_mean = np.mean(training)\n",
        "centered_training = training -  training_mean\n",
        "projected_training = np.dot(centered_training, projection_matrix)\n",
        "\n",
        "\n",
        "testing_mean = np.mean(testing)\n",
        "centered_testing = testing - testing_mean\n",
        "projected_testing = np.dot(centered_testing, projection_matrix)\n",
        "\n",
        "\n",
        "model = KNeighborsClassifier(n_neighbors=1)\n",
        "model.fit(projected_training,training_ids)\n",
        "predicted= model.predict(projected_testing)\n",
        "  \n",
        "accuracy = (np.sum(testing_ids == predicted) / len(testing_ids)) * 100\n",
        "print(\"Accuracy =\" , str(accuracy), \"%\")"
      ],
      "execution_count": null,
      "outputs": [
        {
          "output_type": "stream",
          "text": [
            "Accuracy = 87.5 %\n"
          ],
          "name": "stdout"
        }
      ]
    }
  ]
}